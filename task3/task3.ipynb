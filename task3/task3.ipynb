{
 "cells": [
  {
   "cell_type": "code",
   "execution_count": 1,
   "metadata": {},
   "outputs": [],
   "source": [
    "import pandas as pd\n",
    "import numpy as np\n",
    "\n",
    "from sklearn.metrics.pairwise import cosine_similarity"
   ]
  },
  {
   "cell_type": "code",
   "execution_count": 2,
   "metadata": {},
   "outputs": [],
   "source": [
    "train = pd.read_csv('data/train.csv')\n",
    "test = pd.read_csv('data/test.csv')"
   ]
  },
  {
   "cell_type": "code",
   "execution_count": 3,
   "metadata": {},
   "outputs": [],
   "source": [
    "n_users, n_items = train['user_id'].nunique(), train['item_id'].nunique()"
   ]
  },
  {
   "cell_type": "code",
   "execution_count": 4,
   "metadata": {},
   "outputs": [],
   "source": [
    "def downvote_seen(scores, data):\n",
    "    scores_processed = scores.copy()\n",
    "    for i in range(scores_processed.shape[0]):\n",
    "        viewed = list(data[data['user_id'] == i]['item_id'])\n",
    "        scores_processed[i, viewed] = scores.min()\n",
    "    return scores_processed\n",
    "\n",
    "def get_predictions(scores, k=20):\n",
    "    return scores.argsort(axis=1)[:, -k:][:, ::-1]\n",
    "\n",
    "def prepare_submission(pred, sub_name):\n",
    "    sub = pd.DataFrame(pred)\n",
    "    sub['user_id'] = np.arange(sub.shape[0])\n",
    "    sample_sub = pd.read_csv('data/sample_submission.csv')\n",
    "    sample_sub[['user_id']].merge(sub).to_csv(f'submissions/{sub_name}.csv', index=False)"
   ]
  },
  {
   "cell_type": "markdown",
   "metadata": {},
   "source": [
    "# SVD"
   ]
  },
  {
   "cell_type": "code",
   "execution_count": 5,
   "metadata": {},
   "outputs": [],
   "source": [
    "interactions = np.zeros((n_users, n_items))\n",
    "interactions[train['user_id'].values, train['item_id'].values] = train['like'].values*2 - 1"
   ]
  },
  {
   "cell_type": "code",
   "execution_count": 6,
   "metadata": {},
   "outputs": [],
   "source": [
    "u, s, vh = np.linalg.svd(interactions)"
   ]
  },
  {
   "cell_type": "code",
   "execution_count": 7,
   "metadata": {},
   "outputs": [],
   "source": [
    "k = 2\n",
    "\n",
    "scores = (u[:, :k] * s[:k]) @ vh[:k]\n",
    "scores = downvote_seen(scores, train)\n",
    "pred = get_predictions(scores, 20)"
   ]
  },
  {
   "cell_type": "code",
   "execution_count": 8,
   "metadata": {},
   "outputs": [],
   "source": [
    "# Score on the leaderboard: 0.483\n",
    "prepare_submission(pred, f'svd_{k}_final')"
   ]
  },
  {
   "cell_type": "markdown",
   "metadata": {},
   "source": [
    "# Embeddings"
   ]
  },
  {
   "cell_type": "code",
   "execution_count": 9,
   "metadata": {},
   "outputs": [],
   "source": [
    "user_features = pd.read_csv('data/user_features.csv')\n",
    "item_features = pd.read_csv('data/item-features.csv')"
   ]
  },
  {
   "cell_type": "code",
   "execution_count": 10,
   "metadata": {},
   "outputs": [],
   "source": [
    "user_features_arr = user_features.sort_values('user_id').drop('user_id', axis=1).values\n",
    "item_features_arr = item_features.sort_values('item_id').drop('item_id', axis=1).values"
   ]
  },
  {
   "cell_type": "code",
   "execution_count": 11,
   "metadata": {},
   "outputs": [],
   "source": [
    "scores = user_features_arr @ item_features_arr.T\n",
    "scores = downvote_seen(scores, train)\n",
    "pred = get_predictions(scores, 20)"
   ]
  },
  {
   "cell_type": "code",
   "execution_count": 12,
   "metadata": {},
   "outputs": [],
   "source": [
    "# Score on the leaderboard: 0.509\n",
    "prepare_submission(pred, 'embeddings_final')"
   ]
  },
  {
   "attachments": {},
   "cell_type": "markdown",
   "metadata": {},
   "source": [
    "# User KNN"
   ]
  },
  {
   "cell_type": "code",
   "execution_count": 13,
   "metadata": {},
   "outputs": [],
   "source": [
    "interactions = np.zeros((n_users, n_items))\n",
    "interactions[train['user_id'].values, train['item_id'].values] = train['like'].values*2 - 1"
   ]
  },
  {
   "cell_type": "code",
   "execution_count": 14,
   "metadata": {},
   "outputs": [],
   "source": [
    "S = cosine_similarity(interactions) - np.eye(n_users)"
   ]
  },
  {
   "cell_type": "code",
   "execution_count": 15,
   "metadata": {},
   "outputs": [],
   "source": [
    "k = 100\n",
    "\n",
    "for i in range(S.shape[0]):\n",
    "    values = S[i]\n",
    "    inds = np.argsort(values)\n",
    "    S[i, inds[:-k]] = 0"
   ]
  },
  {
   "cell_type": "code",
   "execution_count": 16,
   "metadata": {},
   "outputs": [],
   "source": [
    "scores = S @ interactions\n",
    "scores = downvote_seen(scores, train)\n",
    "pred = get_predictions(scores, 20)"
   ]
  },
  {
   "cell_type": "code",
   "execution_count": 17,
   "metadata": {},
   "outputs": [],
   "source": [
    "# Score on the leaderboard: 0.586\n",
    "prepare_submission(pred, f'user_knn_{k}_final')"
   ]
  },
  {
   "cell_type": "code",
   "execution_count": null,
   "metadata": {},
   "outputs": [],
   "source": []
  }
 ],
 "metadata": {
  "kernelspec": {
   "display_name": "Python 3",
   "language": "python",
   "name": "python3"
  },
  "language_info": {
   "codemirror_mode": {
    "name": "ipython",
    "version": 3
   },
   "file_extension": ".py",
   "mimetype": "text/x-python",
   "name": "python",
   "nbconvert_exporter": "python",
   "pygments_lexer": "ipython3",
   "version": "3.9.13"
  },
  "orig_nbformat": 4,
  "vscode": {
   "interpreter": {
    "hash": "cf92aa13fedf815d5c8dd192b8d835913fde3e8bc926b2a0ad6cc74ef2ba3ca2"
   }
  }
 },
 "nbformat": 4,
 "nbformat_minor": 2
}
